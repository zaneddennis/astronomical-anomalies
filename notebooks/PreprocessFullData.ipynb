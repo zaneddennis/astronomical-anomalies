{
 "cells": [
  {
   "cell_type": "code",
   "execution_count": 1,
   "metadata": {},
   "outputs": [],
   "source": [
    "import numpy as np"
   ]
  },
  {
   "cell_type": "code",
   "execution_count": 2,
   "metadata": {},
   "outputs": [],
   "source": [
    "preprocessed_data = np.load('../data_110620.npz',allow_pickle=True)\n",
    "times = preprocessed_data[\"times\"]\n",
    "fluxes = preprocessed_data[\"fluxes\"]\n",
    "flux_errs = preprocessed_data[\"flux_errs\"]\n",
    "filters = preprocessed_data[\"filters\"]\n",
    "classes = preprocessed_data[\"ids\"]"
   ]
  },
  {
   "cell_type": "code",
   "execution_count": 3,
   "metadata": {},
   "outputs": [
    {
     "data": {
      "text/plain": [
       "array([array([48.717018, 53.273788, 25.680866, 33.278061, 15.789575, 27.769186]),\n",
       "       array([49.219753, 21.227526, 25.851067, 16.224874, 13.073893]),\n",
       "       array([66.843063, 12.361461, 53.62289 , 51.213921, 30.630966, 22.121798]),\n",
       "       ...,\n",
       "       array([134.048508, 110.502991,  74.174957,  58.029629,  77.219833,\n",
       "        31.504538,  59.600647,  33.991787,  54.077057,  13.827139]),\n",
       "       array([36.747936, 40.822311, 35.378639, 22.822931, 31.775585]),\n",
       "       array([-385.041199, -463.856384, -375.543488, -381.961334, -384.66037 ,\n",
       "       -363.629028, -318.050629, -227.244568, -267.34613 , -351.846039,\n",
       "       -403.185089, -387.154083, -377.980621, -346.319458, -205.899857,\n",
       "        -98.217422, -193.514557, -122.985046, -184.747726, -153.27861 ,\n",
       "       -210.643799, -177.957367, -184.480331, -179.546204, -182.303284,\n",
       "       -291.670929, -275.538391, -291.183868, -241.851624, -268.196838,\n",
       "       -278.868347, -293.764069, -229.193619, -299.923767, -297.457581,\n",
       "       -256.395081, -297.904541, -372.230103, -392.486755, -316.67038 ,\n",
       "       -346.261505, -302.853119, -280.512939, -326.540924, -272.112488,\n",
       "       -245.149094, -254.864624, -272.9245  , -313.13916 , -250.666428,\n",
       "       -301.690735, -304.221008, -380.575531, -295.659698, -307.436615,\n",
       "       -380.001709, -213.175369, -122.390312, -129.196228, -121.424072,\n",
       "        -94.629738,  -63.14677 ,  -74.029839,  -62.007111,  -91.863625,\n",
       "        -59.345932,  -84.460594,  -74.859901, -150.575623, -141.564774,\n",
       "        -89.683319,  -40.971096, -147.998886, -153.985199,  -74.32402 ,\n",
       "        -82.488762,  -79.726982,  -87.074356, -163.18927 , -202.116806,\n",
       "       -241.057861])], dtype=object)"
      ]
     },
     "execution_count": 3,
     "metadata": {},
     "output_type": "execute_result"
    }
   ],
   "source": [
    "fluxes"
   ]
  },
  {
   "cell_type": "code",
   "execution_count": 4,
   "metadata": {},
   "outputs": [
    {
     "data": {
      "text/plain": [
       "756091"
      ]
     },
     "execution_count": 4,
     "metadata": {},
     "output_type": "execute_result"
    }
   ],
   "source": [
    "toKeep = []\n",
    "for i, e_fluxes in enumerate(fluxes):\n",
    "    \n",
    "    new_fluxes = [np.log10(f) if f >= 0 else 0 for f in e_fluxes]\n",
    "    \n",
    "    fluxes[i] = np.array(new_fluxes)\n",
    "    if any(new_fluxes):\n",
    "        toKeep.append(i)\n",
    "\n",
    "len(fluxes)"
   ]
  },
  {
   "cell_type": "code",
   "execution_count": 5,
   "metadata": {},
   "outputs": [
    {
     "data": {
      "text/plain": [
       "742121"
      ]
     },
     "execution_count": 5,
     "metadata": {},
     "output_type": "execute_result"
    }
   ],
   "source": [
    "len(toKeep)"
   ]
  },
  {
   "cell_type": "code",
   "execution_count": 6,
   "metadata": {},
   "outputs": [],
   "source": [
    "SNI = (52, 62, 67, 90)"
   ]
  },
  {
   "cell_type": "code",
   "execution_count": 7,
   "metadata": {},
   "outputs": [],
   "source": [
    "classes_collapsed = classes.copy()\n",
    "\n",
    "for i, c in enumerate(classes):\n",
    "    if c in SNI:\n",
    "        classes_collapsed[i] = 0"
   ]
  },
  {
   "cell_type": "code",
   "execution_count": 8,
   "metadata": {},
   "outputs": [
    {
     "name": "stdout",
     "output_type": "stream",
     "text": [
      "742121\n"
     ]
    },
    {
     "data": {
      "text/plain": [
       "array([array([1.6876807 , 1.72651358, 1.40960966, 1.52215801, 1.19837044,\n",
       "       1.44356315]),\n",
       "       array([1.69213943, 1.32689938, 1.41247847, 1.21018133, 1.11640493]),\n",
       "       array([1.82505634, 1.0920698 , 1.72935022, 1.70938803, 1.48616069,\n",
       "       1.34482042]),\n",
       "       ...,\n",
       "       array([1.29258636, 1.27865004, 1.15756525, 1.45088124, 1.27087773,\n",
       "       1.05883609]),\n",
       "       array([2.12726198, 2.04337403, 1.8702573 , 1.76364979, 1.88772886,\n",
       "       1.49837312, 1.77525097, 1.531374  , 1.73301305, 1.14073233]),\n",
       "       array([1.56523295, 1.61089759, 1.54874112, 1.35837142, 1.50209355])],\n",
       "      dtype=object)"
      ]
     },
     "execution_count": 8,
     "metadata": {},
     "output_type": "execute_result"
    }
   ],
   "source": [
    "times = times[toKeep]\n",
    "fluxes = fluxes[toKeep]\n",
    "flux_errs = flux_errs[toKeep]\n",
    "filters = filters[toKeep]\n",
    "classes = classes_collapsed[toKeep]\n",
    "\n",
    "print(len(fluxes))\n",
    "fluxes"
   ]
  },
  {
   "cell_type": "code",
   "execution_count": 9,
   "metadata": {},
   "outputs": [],
   "source": [
    "np.savez(\"fulldata.npz\", times=times, fluxes=fluxes, flux_errs=flux_errs, filters=filters, ids=classes)"
   ]
  }
 ],
 "metadata": {
  "kernelspec": {
   "display_name": "Python 3",
   "language": "python",
   "name": "python3"
  },
  "language_info": {
   "codemirror_mode": {
    "name": "ipython",
    "version": 3
   },
   "file_extension": ".py",
   "mimetype": "text/x-python",
   "name": "python",
   "nbconvert_exporter": "python",
   "pygments_lexer": "ipython3",
   "version": "3.6.8"
  }
 },
 "nbformat": 4,
 "nbformat_minor": 2
}
